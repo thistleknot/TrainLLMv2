{
 "cells": [
  {
   "cell_type": "code",
   "execution_count": 17,
   "id": "7b007572-2010-4d17-bc64-08edf8fba86a",
   "metadata": {},
   "outputs": [],
   "source": [
    "import pandas as pd\n",
    "\n",
    "flan_cot_ecqa = pd.read_csv('/mnt/distvol/FLAN/flan/v2/cot_data/ecqa_train.tsv',delimiter='\\t',header=None)\n",
    "flan_cot_ecqa.columns = ['Prompt1','Prompt2','Response']\n",
    "#flan_cot_ecqa_dict = df.to_dict(orient='list')\n",
    "flan_cot_ecqa_ds = Dataset.from_pandas(df)"
   ]
  },
  {
   "cell_type": "code",
   "execution_count": 23,
   "id": "92fc4c28-c03f-49d6-9dfc-ef30c594bb10",
   "metadata": {},
   "outputs": [],
   "source": []
  },
  {
   "cell_type": "code",
   "execution_count": 29,
   "id": "0dddb1e1-10cf-42f7-8c11-6d5f6d4607bc",
   "metadata": {},
   "outputs": [
    {
     "name": "stderr",
     "output_type": "stream",
     "text": [
      "/mnt/distvol/bitsandbytes/lib/python3.9/site-packages/tqdm/auto.py:21: TqdmWarning: IProgress not found. Please update jupyter and ipywidgets. See https://ipywidgets.readthedocs.io/en/stable/user_install.html\n",
      "  from .autonotebook import tqdm as notebook_tqdm\n"
     ]
    }
   ],
   "source": [
    "from datasets import Dataset\n"
   ]
  },
  {
   "cell_type": "code",
   "execution_count": 31,
   "id": "f1dcbf91-5aa0-44c9-8747-56165b014a65",
   "metadata": {},
   "outputs": [
    {
     "data": {
      "text/plain": [
       "{'Prompt1': 'What might a person see at the scene of a brutal killing?\\\\nOptions:\\\\n- bloody mess\\\\n- pleasure\\\\n- being imprisoned\\\\n- feeling of guilt\\\\n- cake',\n",
       " 'Prompt2': 'bloody mess',\n",
       " 'Response': 'Bloody mess is covered or stained with blood. A person might see a bloody mess at the scene of a brutal killing.'}"
      ]
     },
     "execution_count": 31,
     "metadata": {},
     "output_type": "execute_result"
    }
   ],
   "source": [
    "hf_dataset[0]"
   ]
  },
  {
   "cell_type": "code",
   "execution_count": 32,
   "id": "98133ae3-4ce7-482d-9cb8-c1afb98ac0bd",
   "metadata": {},
   "outputs": [
    {
     "data": {
      "text/plain": [
       "7112"
      ]
     },
     "execution_count": 32,
     "metadata": {},
     "output_type": "execute_result"
    }
   ],
   "source": [
    "len(data_dict['Prompt1'])"
   ]
  },
  {
   "cell_type": "code",
   "execution_count": 20,
   "id": "34243f52-73d9-4d96-910c-48f166a5fc61",
   "metadata": {},
   "outputs": [
    {
     "data": {
      "text/html": [
       "<div>\n",
       "<style scoped>\n",
       "    .dataframe tbody tr th:only-of-type {\n",
       "        vertical-align: middle;\n",
       "    }\n",
       "\n",
       "    .dataframe tbody tr th {\n",
       "        vertical-align: top;\n",
       "    }\n",
       "\n",
       "    .dataframe thead th {\n",
       "        text-align: right;\n",
       "    }\n",
       "</style>\n",
       "<table border=\"1\" class=\"dataframe\">\n",
       "  <thead>\n",
       "    <tr style=\"text-align: right;\">\n",
       "      <th></th>\n",
       "      <th>Context</th>\n",
       "      <th>Prompt</th>\n",
       "      <th>Response</th>\n",
       "    </tr>\n",
       "  </thead>\n",
       "  <tbody>\n",
       "    <tr>\n",
       "      <th>0</th>\n",
       "      <td>What might a person see at the scene of a brut...</td>\n",
       "      <td>bloody mess</td>\n",
       "      <td>Bloody mess is covered or stained with blood. ...</td>\n",
       "    </tr>\n",
       "    <tr>\n",
       "      <th>1</th>\n",
       "      <td>If you want to set a romantic atmosphere you m...</td>\n",
       "      <td>bedroom</td>\n",
       "      <td>A romantic atmosphere can be set in bedroom. B...</td>\n",
       "    </tr>\n",
       "    <tr>\n",
       "      <th>2</th>\n",
       "      <td>What might the result of unwanted flirting be?...</td>\n",
       "      <td>being slapped</td>\n",
       "      <td>Person can be slapped if he does unwanted flir...</td>\n",
       "    </tr>\n",
       "    <tr>\n",
       "      <th>3</th>\n",
       "      <td>He had a lot on his plate opening business, th...</td>\n",
       "      <td>stress</td>\n",
       "      <td>Stress is an outcome of lot of things on plate...</td>\n",
       "    </tr>\n",
       "    <tr>\n",
       "      <th>4</th>\n",
       "      <td>Where would you borrow coffee if you do not ha...</td>\n",
       "      <td>friend's house</td>\n",
       "      <td>If you don't have coffee powder / beans and do...</td>\n",
       "    </tr>\n",
       "    <tr>\n",
       "      <th>...</th>\n",
       "      <td>...</td>\n",
       "      <td>...</td>\n",
       "      <td>...</td>\n",
       "    </tr>\n",
       "    <tr>\n",
       "      <th>7107</th>\n",
       "      <td>If a small flying animal picks up a string, wh...</td>\n",
       "      <td>bird's nest</td>\n",
       "      <td>A string can be used to make bird's nest. A sm...</td>\n",
       "    </tr>\n",
       "    <tr>\n",
       "      <th>7108</th>\n",
       "      <td>Joe and John and sylvia were all running erran...</td>\n",
       "      <td>efficiency</td>\n",
       "      <td>Splitting up task among people leads to effici...</td>\n",
       "    </tr>\n",
       "    <tr>\n",
       "      <th>7109</th>\n",
       "      <td>The buffalo were big thick and easy to spot, b...</td>\n",
       "      <td>sparse</td>\n",
       "      <td>As one can eaisly see a buffalo, they get hunt...</td>\n",
       "    </tr>\n",
       "    <tr>\n",
       "      <th>7110</th>\n",
       "      <td>James's duffel bag was too heavy to carry with...</td>\n",
       "      <td>locker room</td>\n",
       "      <td>Duffel bag is cylidrical and made of canvas or...</td>\n",
       "    </tr>\n",
       "    <tr>\n",
       "      <th>7111</th>\n",
       "      <td>John put the book in his pack and then went of...</td>\n",
       "      <td>synagogue</td>\n",
       "      <td>Synagogue is a place of worship. Those working...</td>\n",
       "    </tr>\n",
       "  </tbody>\n",
       "</table>\n",
       "<p>7112 rows × 3 columns</p>\n",
       "</div>"
      ],
      "text/plain": [
       "                                                Context          Prompt   \n",
       "0     What might a person see at the scene of a brut...     bloody mess  \\\n",
       "1     If you want to set a romantic atmosphere you m...         bedroom   \n",
       "2     What might the result of unwanted flirting be?...   being slapped   \n",
       "3     He had a lot on his plate opening business, th...          stress   \n",
       "4     Where would you borrow coffee if you do not ha...  friend's house   \n",
       "...                                                 ...             ...   \n",
       "7107  If a small flying animal picks up a string, wh...     bird's nest   \n",
       "7108  Joe and John and sylvia were all running erran...      efficiency   \n",
       "7109  The buffalo were big thick and easy to spot, b...          sparse   \n",
       "7110  James's duffel bag was too heavy to carry with...     locker room   \n",
       "7111  John put the book in his pack and then went of...       synagogue   \n",
       "\n",
       "                                               Response  \n",
       "0     Bloody mess is covered or stained with blood. ...  \n",
       "1     A romantic atmosphere can be set in bedroom. B...  \n",
       "2     Person can be slapped if he does unwanted flir...  \n",
       "3     Stress is an outcome of lot of things on plate...  \n",
       "4     If you don't have coffee powder / beans and do...  \n",
       "...                                                 ...  \n",
       "7107  A string can be used to make bird's nest. A sm...  \n",
       "7108  Splitting up task among people leads to effici...  \n",
       "7109  As one can eaisly see a buffalo, they get hunt...  \n",
       "7110  Duffel bag is cylidrical and made of canvas or...  \n",
       "7111  Synagogue is a place of worship. Those working...  \n",
       "\n",
       "[7112 rows x 3 columns]"
      ]
     },
     "execution_count": 20,
     "metadata": {},
     "output_type": "execute_result"
    }
   ],
   "source": []
  },
  {
   "cell_type": "code",
   "execution_count": 19,
   "id": "f25560ba-5a42-4e2f-921f-21489791cc55",
   "metadata": {},
   "outputs": [
    {
     "data": {
      "text/plain": [
       "'If you want to set a romantic atmosphere you might light a candle where?\\\\nOptions:\\\\n- dimly lit room\\\\n- synagogue\\\\n- bedroom\\\\n- birthday cake\\\\n- roses'"
      ]
     },
     "execution_count": 19,
     "metadata": {},
     "output_type": "execute_result"
    }
   ],
   "source": []
  }
 ],
 "metadata": {
  "kernelspec": {
   "display_name": "Python 3 (ipykernel)",
   "language": "python",
   "name": "python3"
  },
  "language_info": {
   "codemirror_mode": {
    "name": "ipython",
    "version": 3
   },
   "file_extension": ".py",
   "mimetype": "text/x-python",
   "name": "python",
   "nbconvert_exporter": "python",
   "pygments_lexer": "ipython3",
   "version": "3.9.9"
  }
 },
 "nbformat": 4,
 "nbformat_minor": 5
}
